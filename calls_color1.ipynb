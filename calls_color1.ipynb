{
 "cells": [
  {
   "cell_type": "code",
   "execution_count": 8,
   "metadata": {},
   "outputs": [],
   "source": [
    "#imports \n",
    "from bokeh.io import show, output_file\n",
    "from bokeh.models import ColumnDataSource, DatetimeTickFormatter, HoverTool, ColorBar, LabelSet\n",
    "from bokeh.plotting import figure\n",
    "import datetime\n",
    "import numpy as np\n",
    "from bokeh.palettes import Spectral as paletin #RdYlGn more conventional...\n",
    "from scipy.stats import norm\n",
    "#from random import randint\n",
    "from bokeh.transform import linear_cmap"
   ]
  },
  {
   "cell_type": "code",
   "execution_count": 9,
   "metadata": {},
   "outputs": [],
   "source": [
    "#Black Scholes function\n",
    "def BlackScholes(price, eXprice, ifree, iDate, fDate, vol, div):\n",
    "    \n",
    "    #divide by 100 to make decimals instead of percentajes\n",
    "    ifree, vol, div = ifree/100, vol/100, div/100 \n",
    "\n",
    "    # expected life of option in years. I do not know why 360 is used, but\n",
    "    # sticking with tradition...\n",
    "    timeExp = (fDate - iDate).days/360\n",
    "    \n",
    "    #d1 and d2\n",
    "    d1 = (np.log(price/eXprice)+timeExp*(ifree-div+(vol**2)/2))/(vol*np.sqrt(timeExp))\n",
    "    d2 = (np.log(price/eXprice)+timeExp*(ifree-div-(vol**2)/2))/(vol*np.sqrt(timeExp))\n",
    "    #d2 = d1-vol*np.sqrt(timeExp)\n",
    "\n",
    "    #calls and puts prices\n",
    "    call =   price*np.exp(-div*timeExp)*norm.cdf( d1, 0, 1)  - eXprice*np.exp(-ifree*timeExp)*norm.cdf( d2, 0, 1)\n",
    "    put  = eXprice*np.exp(-ifree*timeExp)*norm.cdf(-d2, 0, 1)- price*np.exp(-div*timeExp)*norm.cdf(-d1, 0, 1) \n",
    "    \n",
    "    return call, put\n",
    "\n"
   ]
  },
  {
   "cell_type": "code",
   "execution_count": 10,
   "metadata": {},
   "outputs": [],
   "source": [
    "#colorines: color defining function\n",
    "def colorines (minPre, maxPre, pre, bins):\n",
    "    sep = (maxPre - minPre)/bins\n",
    "    bines = np.arange(minPre, maxPre, sep)\n",
    "    for i in range(len(bines)):\n",
    "        if bines[i] >= pre:\n",
    "            break\n",
    "        continue\n",
    "    return i"
   ]
  },
  {
   "cell_type": "code",
   "execution_count": 11,
   "metadata": {},
   "outputs": [],
   "source": [
    "#Plotting parameters\n",
    "#how many days and price divisions\n",
    "subDays   = 2\n",
    "subPrices = 1\n",
    "#min and max Call prices to plot\n",
    "minCall   = -8\n",
    "maxCall   =  8\n",
    "#reverse the palette\n",
    "paleta = paletin[10][::-1]"
   ]
  },
  {
   "cell_type": "code",
   "execution_count": 12,
   "metadata": {},
   "outputs": [],
   "source": [
    "# miscelaneous inputs, if percentages no percentage sign\n",
    "ifree    = 2.42                        # interest rate %\n",
    "div      = 2.05                        # dividends %\n",
    "precio   = 295                     # stock price at initial date"
   ]
  },
  {
   "cell_type": "code",
   "execution_count": 13,
   "metadata": {},
   "outputs": [],
   "source": [
    "# specific option data\n",
    "exPrecio = 300.0                       # excercise price\n",
    "iDate   = datetime.date(2019, 5, 14)   # initial date (year, month, day)\n",
    "fDate   = datetime.date(2019, 7, 30)   # final date\n",
    "exDate  = datetime.date(2019, 7, 30)   # excercise date\n",
    "vol     = 11.3                         # volatility %\n",
    "pagado  = False                        # True if option is bought (net debit), False if sold or written (net credit)\n",
    "opPrecio = 6.4                         # price of option"
   ]
  },
  {
   "cell_type": "code",
   "execution_count": 14,
   "metadata": {},
   "outputs": [],
   "source": [
    "#array of days\n",
    "dias = (np.arange(iDate, fDate, subDays, dtype = 'datetime64[D]')).tolist()\n",
    "\n",
    "#allowed price change up and down, like 0.6 = 60%\n",
    "deltaPrecio = 0.06\n",
    "\n",
    "precioAlto = precio * (1 + deltaPrecio)\n",
    "precioBajo = precio * (1 - deltaPrecio)\n",
    "\n",
    "#array of prices\n",
    "precios = (np.arange(precioBajo, precioAlto, subPrices, dtype = 'int64')).tolist()\n",
    "\n",
    "#array of prices for plotting\n",
    "pBajo = [precioBajo ]* len(precios)\n",
    "pAlto = [precioAlto] * len(precios)\n",
    "\n",
    "#define plot\n",
    "p1 = figure(plot_height = 350, toolbar_location = 'right', title = 'Initial Price: black - Exercise Price: blue', x_axis_type = 'datetime')\n",
    "p1.xaxis.formatter = DatetimeTickFormatter(days = [\"%Y-%m-%d\"], months = [\"%Y-%m\"], years = [\"%Y\"],)\n",
    "p1.xgrid.grid_line_color = 'gray'\n",
    "p1.ygrid.grid_line_color = 'gray'\n",
    "p1.y_range.start = precioBajo\n",
    "p1.y_range.end   = precioAlto\n",
    "p1.x_range.start = iDate\n",
    "p1.x_range.end   = fDate\n",
    "\n",
    "#plot call matrix\n",
    "for j in range(len(precios)):\n",
    "    for i in range(len(dias)):\n",
    "        #place cell\n",
    "        abajo  = precioBajo + j * subPrices\n",
    "        arriba = abajo + subPrices\n",
    "        izda   = iDate + datetime.timedelta(days = i*subDays)\n",
    "        dera   = izda  + datetime.timedelta(days = subDays)\n",
    "        #Black Scholes - calculate call and put prices for cell\n",
    "        call, put = BlackScholes(abajo, exPrecio, ifree, izda, exDate, vol, div)\n",
    "        #assign color to cell\n",
    "        if pagado:\n",
    "            colorin = colorines(minCall, maxCall, call - opPrecio, 10)\n",
    "        else:\n",
    "            colorin = colorines(minCall, maxCall, opPrecio - call, 10)\n",
    "        #print('{:8.3f} {:8.3f} {:8.3f} {:%Y-%m-%d} {:2.0f}'.format(call, put, abajo, izda, colorin) )\n",
    "        #finally plot cell with corresponding color\n",
    "        cuadro    = p1.quad(bottom=[abajo], top=[arriba], left=[izda], right=[dera], color = paleta[colorin])\n",
    "\n",
    "# tooltips...\n",
    "# many things in here, the hbars support the tooltip. I have found no way to do this in the cells. \n",
    "#The bars are superimposed over the cells, but because of the low alpha they are not visible. \n",
    "#The parameter width controls the width of the bars, if they are too narrow or wide, change it\n",
    "source1 = ColumnDataSource(data = dict(dias = dias, pBajo = dias))\n",
    "ver     = p1.vbar(x = 'dias', top = 'pBajo', width = 100000000, source = source1, color = 'white', alpha = 0.01)\n",
    "ver_hover = HoverTool(renderers=[ver], tooltips=[('date', '@dias{%F}'), ('Stock', '$y')],\n",
    "                  formatters=dict(dias='datetime'), mode = 'vline')\n",
    "p1.add_tools(ver_hover)\n",
    "\n",
    "#initial price line\n",
    "p1.line([iDate, fDate], [precio, precio], line_width = 2, color = 'black')\n",
    "\n",
    "#exercise option price\n",
    "p1.line([iDate, fDate], [exPrecio, exPrecio], line_width = 2, color = 'blue')\n",
    "\n",
    "#add option color scale\n",
    "mapper = linear_cmap(field_name = 'precios', palette = paleta, low = minCall, high = maxCall)\n",
    "color_bar = ColorBar(color_mapper=mapper['transform'], width=8,  location=(0,0))\n",
    "p1.add_layout(color_bar, 'right')\n",
    "\n",
    "show(p1)"
   ]
  },
  {
   "cell_type": "code",
   "execution_count": null,
   "metadata": {},
   "outputs": [],
   "source": []
  }
 ],
 "metadata": {
  "kernelspec": {
   "display_name": "Python 3",
   "language": "python",
   "name": "python3"
  },
  "language_info": {
   "codemirror_mode": {
    "name": "ipython",
    "version": 3
   },
   "file_extension": ".py",
   "mimetype": "text/x-python",
   "name": "python",
   "nbconvert_exporter": "python",
   "pygments_lexer": "ipython3",
   "version": "3.6.8"
  }
 },
 "nbformat": 4,
 "nbformat_minor": 2
}
