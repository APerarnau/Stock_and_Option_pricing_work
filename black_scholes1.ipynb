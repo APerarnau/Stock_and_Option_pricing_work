{
 "cells": [
  {
   "cell_type": "code",
   "execution_count": 1,
   "metadata": {},
   "outputs": [],
   "source": [
    "#first version Black Scholes\n",
    "#AP May 1st 2019\n",
    "#https://www.macroption.com/black-scholes-formula/"
   ]
  },
  {
   "cell_type": "code",
   "execution_count": 2,
   "metadata": {},
   "outputs": [],
   "source": [
    "import numpy as np\n",
    "import datetime\n",
    "from scipy.stats import norm"
   ]
  },
  {
   "cell_type": "code",
   "execution_count": 9,
   "metadata": {},
   "outputs": [],
   "source": [
    "def BlackScholes(price, eXprice, ifree, iDate, fDate, vol, div):\n",
    "    \n",
    "    #divide by 100 to make decimals instead of percentajes\n",
    "    ifree, vol, div = ifree/100, vol/100, div/100 \n",
    "    \n",
    "    # expected life of option in years. I do not know why 360 is used, but\n",
    "    # sticking with tradition...\n",
    "    timeExp = (fDate - iDate).days/360  \n",
    "    \n",
    "    #d1 and d2\n",
    "    d1 = (np.log(price/eXprice)+timeExp*(ifree-div+(vol*vol)/2))/(vol*np.sqrt(timeExp))\n",
    "    d2 = d1-vol*np.sqrt(timeExp)\n",
    "    \n",
    "    #calls and puts prices\n",
    "    call = price*np.exp(-div*timeExp)*norm.cdf(d1)-price*np.exp(-ifree*timeExp)*norm.cdf(d2)\n",
    "    put =  price*np.exp(-ifree*timeExp)*norm.cdf(-d2)-price*np.exp(-div*timeExp)*norm.cdf(-d1)\n",
    "    \n",
    "    return call, put\n"
   ]
  },
  {
   "cell_type": "code",
   "execution_count": 10,
   "metadata": {
    "scrolled": true
   },
   "outputs": [],
   "source": [
    "price   = 294.16    # current stock price\n",
    "eXprice = 295       # exercise price\n",
    "ifree   = 2.42      # risk free interest rate  %\n",
    "iDate   = datetime.date(2019, 5, 1)  # initial date (year, month, day)\n",
    "fDate   = datetime.date(2019, 7, 19)  # final date\n",
    "vol     = 11.3                # volatility       %\n",
    "div     = 2.05                # stock dividend yield   %"
   ]
  },
  {
   "cell_type": "code",
   "execution_count": 11,
   "metadata": {},
   "outputs": [
    {
     "data": {
      "text/plain": [
       "(6.291528674173662, 6.0538556403199095)"
      ]
     },
     "execution_count": 11,
     "metadata": {},
     "output_type": "execute_result"
    }
   ],
   "source": [
    "call, put = BlackScholes(price, eXprice, ifree, iDate, fDate, vol, div)\n",
    "call, put"
   ]
  },
  {
   "cell_type": "code",
   "execution_count": null,
   "metadata": {},
   "outputs": [],
   "source": []
  }
 ],
 "metadata": {
  "kernelspec": {
   "display_name": "Python 3",
   "language": "python",
   "name": "python3"
  },
  "language_info": {
   "codemirror_mode": {
    "name": "ipython",
    "version": 3
   },
   "file_extension": ".py",
   "mimetype": "text/x-python",
   "name": "python",
   "nbconvert_exporter": "python",
   "pygments_lexer": "ipython3",
   "version": "3.6.8"
  }
 },
 "nbformat": 4,
 "nbformat_minor": 2
}
